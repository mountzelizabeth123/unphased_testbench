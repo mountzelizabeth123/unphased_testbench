{
 "cells": [
  {
   "cell_type": "code",
   "execution_count": null,
   "metadata": {},
   "outputs": [],
   "source": [
    "# https://github.com/geissdoerfer/python-spd3303x"
   ]
  },
  {
   "cell_type": "code",
   "execution_count": 6,
   "metadata": {},
   "outputs": [],
   "source": [
    "from spd3303x import SPD3303X"
   ]
  },
  {
   "cell_type": "code",
   "execution_count": 9,
   "metadata": {},
   "outputs": [
    {
     "name": "stderr",
     "output_type": "stream",
     "text": [
      "Trying to auto-detect USB device\n"
     ]
    },
    {
     "ename": "Exception",
     "evalue": "No device found",
     "output_type": "error",
     "traceback": [
      "\u001b[1;31m---------------------------------------------------------------------------\u001b[0m",
      "\u001b[1;31mException\u001b[0m                                 Traceback (most recent call last)",
      "Cell \u001b[1;32mIn[9], line 1\u001b[0m\n\u001b[1;32m----> 1\u001b[0m \u001b[38;5;28;01mwith\u001b[39;00m SPD3303X\u001b[38;5;241m.\u001b[39musb_device() \u001b[38;5;28;01mas\u001b[39;00m dev:\n\u001b[0;32m      2\u001b[0m     dev\u001b[38;5;241m.\u001b[39mCH1\u001b[38;5;241m.\u001b[39mset_voltage(\u001b[38;5;241m8\u001b[39m)\n\u001b[0;32m      3\u001b[0m     dev\u001b[38;5;241m.\u001b[39mCH1\u001b[38;5;241m.\u001b[39mset_current(\u001b[38;5;241m0.75\u001b[39m)\n",
      "File \u001b[1;32mc:\\Users\\user\\miniconda3\\envs\\18726env\\Lib\\site-packages\\spd3303x\\__init__.py:108\u001b[0m, in \u001b[0;36mUSBDevice.__enter__\u001b[1;34m(self)\u001b[0m\n\u001b[0;32m    106\u001b[0m             \u001b[38;5;28mself\u001b[39m\u001b[38;5;241m.\u001b[39m_visa_rscr \u001b[38;5;241m=\u001b[39m res_str\n\u001b[0;32m    107\u001b[0m     \u001b[38;5;28;01mif\u001b[39;00m \u001b[38;5;28mself\u001b[39m\u001b[38;5;241m.\u001b[39m_visa_rscr \u001b[38;5;129;01mis\u001b[39;00m \u001b[38;5;28;01mNone\u001b[39;00m:\n\u001b[1;32m--> 108\u001b[0m         \u001b[38;5;28;01mraise\u001b[39;00m \u001b[38;5;167;01mException\u001b[39;00m(\u001b[38;5;124m\"\u001b[39m\u001b[38;5;124mNo device found\u001b[39m\u001b[38;5;124m\"\u001b[39m)\n\u001b[0;32m    110\u001b[0m \u001b[38;5;28mself\u001b[39m\u001b[38;5;241m.\u001b[39m_inst \u001b[38;5;241m=\u001b[39m rm\u001b[38;5;241m.\u001b[39mopen_resource(\u001b[38;5;28mself\u001b[39m\u001b[38;5;241m.\u001b[39m_visa_rscr)\n\u001b[0;32m    111\u001b[0m \u001b[38;5;28mself\u001b[39m\u001b[38;5;241m.\u001b[39m_inst\u001b[38;5;241m.\u001b[39mwrite_termination \u001b[38;5;241m=\u001b[39m \u001b[38;5;124m\"\u001b[39m\u001b[38;5;130;01m\\n\u001b[39;00m\u001b[38;5;124m\"\u001b[39m\n",
      "\u001b[1;31mException\u001b[0m: No device found"
     ]
    }
   ],
   "source": [
    "with SPD3303X.usb_device() as dev:\n",
    "    dev.CH1.set_voltage(8)\n",
    "    dev.CH1.set_current(0.75)\n",
    "    dev.CH1.set_output(True)\n",
    "    print(dev.CH1.get_current())\n",
    "    print(dev.CH1.get_voltage())\n",
    "    print(dev.CH1.measure_voltage())\n",
    "    print(dev.CH1.measure_current())\n",
    "    dev.CH3.set_output(True)"
   ]
  },
  {
   "cell_type": "code",
   "execution_count": null,
   "metadata": {},
   "outputs": [],
   "source": []
  },
  {
   "cell_type": "code",
   "execution_count": null,
   "metadata": {},
   "outputs": [],
   "source": []
  }
 ],
 "metadata": {
  "kernelspec": {
   "display_name": "18726env",
   "language": "python",
   "name": "python3"
  },
  "language_info": {
   "codemirror_mode": {
    "name": "ipython",
    "version": 3
   },
   "file_extension": ".py",
   "mimetype": "text/x-python",
   "name": "python",
   "nbconvert_exporter": "python",
   "pygments_lexer": "ipython3",
   "version": "3.11.10"
  }
 },
 "nbformat": 4,
 "nbformat_minor": 2
}
