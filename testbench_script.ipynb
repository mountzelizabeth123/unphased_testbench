{
 "cells": [
  {
   "cell_type": "code",
   "execution_count": null,
   "metadata": {},
   "outputs": [],
   "source": [
    "# https://github.com/geissdoerfer/python-spd3303x"
   ]
  },
  {
   "cell_type": "code",
   "execution_count": 2,
   "metadata": {},
   "outputs": [],
   "source": [
    "from spd3303x import SPD3303X"
   ]
  },
  {
   "cell_type": "code",
   "execution_count": 3,
   "metadata": {},
   "outputs": [
    {
     "name": "stderr",
     "output_type": "stream",
     "text": [
      "Trying to resolve host 192.168.0.102\n",
      "Discovered SPD3303X-E by Siglent Technologies\n"
     ]
    },
    {
     "name": "stdout",
     "output_type": "stream",
     "text": [
      "0.75\n",
      "8.00\n",
      "3.30\n",
      "0.00\n"
     ]
    }
   ],
   "source": [
    "with SPD3303X.ethernet_device(\"192.168.0.102\") as dev:\n",
    "    dev.CH1.set_voltage(8)\n",
    "    dev.CH1.set_current(0.75)\n",
    "    dev.CH1.set_output(True)\n",
    "    print(dev.CH1.get_current())\n",
    "    print(dev.CH1.get_voltage())\n",
    "    print(dev.CH1.measure_voltage())\n",
    "    print(dev.CH1.measure_current())\n",
    "    dev.CH3.set_output(True)"
   ]
  },
  {
   "cell_type": "code",
   "execution_count": 4,
   "metadata": {},
   "outputs": [
    {
     "name": "stderr",
     "output_type": "stream",
     "text": [
      "Trying to resolve host 192.168.0.100\n",
      "Discovered SPD3303X-E by Siglent Technologies\n"
     ]
    },
    {
     "name": "stdout",
     "output_type": "stream",
     "text": [
      "0.75\n",
      "8.00\n",
      "1.80\n",
      "0.00\n"
     ]
    }
   ],
   "source": [
    "with SPD3303X.ethernet_device(\"192.168.0.100\") as dev:\n",
    "    dev.CH1.set_voltage(8)\n",
    "    dev.CH1.set_current(0.75)\n",
    "    dev.CH1.set_output(True)\n",
    "    print(dev.CH1.get_current())\n",
    "    print(dev.CH1.get_voltage())\n",
    "    print(dev.CH1.measure_voltage())\n",
    "    print(dev.CH1.measure_current())\n",
    "    dev.CH3.set_output(True)"
   ]
  },
  {
   "cell_type": "code",
   "execution_count": null,
   "metadata": {},
   "outputs": [],
   "source": []
  },
  {
   "cell_type": "code",
   "execution_count": null,
   "metadata": {},
   "outputs": [],
   "source": []
  }
 ],
 "metadata": {
  "kernelspec": {
   "display_name": "18726env",
   "language": "python",
   "name": "python3"
  },
  "language_info": {
   "codemirror_mode": {
    "name": "ipython",
    "version": 3
   },
   "file_extension": ".py",
   "mimetype": "text/x-python",
   "name": "python",
   "nbconvert_exporter": "python",
   "pygments_lexer": "ipython3",
   "version": "3.11.10"
  }
 },
 "nbformat": 4,
 "nbformat_minor": 2
}
